{
 "cells": [
  {
   "cell_type": "code",
   "execution_count": 3,
   "metadata": {},
   "outputs": [],
   "source": [
    "import gazpacho"
   ]
  },
  {
   "cell_type": "code",
   "execution_count": 4,
   "metadata": {},
   "outputs": [],
   "source": [
    "URL = \"https://en.wikipedia.org/wiki/List_of_world_records_in_swimming\""
   ]
  },
  {
   "cell_type": "code",
   "execution_count": 5,
   "metadata": {},
   "outputs": [],
   "source": [
    "html = gazpacho.get(URL)"
   ]
  },
  {
   "cell_type": "code",
   "execution_count": 6,
   "metadata": {},
   "outputs": [],
   "source": [
    "soup = gazpacho.Soup(html)"
   ]
  },
  {
   "cell_type": "code",
   "execution_count": 7,
   "metadata": {},
   "outputs": [],
   "source": [
    "tables = soup.find(\"table\", mode=\"all\")"
   ]
  },
  {
   "cell_type": "code",
   "execution_count": 8,
   "metadata": {},
   "outputs": [],
   "source": [
    "rows = tables[4].find(\"tr\", mode=\"all\")"
   ]
  },
  {
   "cell_type": "code",
   "execution_count": 9,
   "metadata": {},
   "outputs": [
    {
     "name": "stdout",
     "output_type": "stream",
     "text": [
      "Table 0 has 21 rows and 9 columns\n",
      "Table 1 has 23 rows and 9 columns\n",
      "Table 2 has 3 rows and 9 columns\n",
      "Table 3 has 25 rows and 9 columns\n",
      "Table 4 has 26 rows and 9 columns\n",
      "Table 5 has 4 rows and 9 columns\n",
      "Table 6 has 26 rows and 11 columns\n",
      "Table 7 has 1 rows and 2 columns\n",
      "Table 8 has 7 rows and 1 columns\n",
      "Table 9 has 5 rows and 1 columns\n",
      "Table 10 has 8 rows and 1 columns\n"
     ]
    }
   ],
   "source": [
    "for i, table in enumerate(tables):\n",
    "    rows = table.find(\"tr\", mode=\"all\")\n",
    "    row_len = len(rows)\n",
    "    columns = rows[-1].find(\"td\", mode=\"all\")\n",
    "    columns_len = len(columns)\n",
    "    print(f\"Table {i} has {row_len} rows and {columns_len} columns\")"
   ]
  },
  {
   "cell_type": "code",
   "execution_count": 10,
   "metadata": {},
   "outputs": [],
   "source": [
    "rows = tables[4].find(\"tr\", mode=\"all\")"
   ]
  },
  {
   "cell_type": "code",
   "execution_count": 11,
   "metadata": {},
   "outputs": [
    {
     "name": "stdout",
     "output_type": "stream",
     "text": [
      "50m freestyle -> 22.83\n",
      "100m freestyle -> 50.25\n",
      "200m freestyle -> 1:50.31\n",
      "400m freestyle -> 3:50.25\n",
      "800m freestyle -> 7:57.42\n",
      "1500m freestyle -> 15:08.24\n",
      "50m backstroke -> 25.23\n",
      "100m backstroke -> 54.02\n",
      "200m backstroke -> 1:58.04\n",
      "50m breaststroke -> 28.37\n",
      "100m breaststroke -> 1:02.36\n",
      "100m breaststroke -> 1:02.36\n",
      "100m breaststroke -> 1:02.36\n",
      "200m breaststroke -> 2:12.50\n",
      "50m butterfly -> 23.94\n",
      "100m butterfly -> 52.71\n",
      "200m butterfly -> 1:59.32\n",
      "100m individual medley -> 55.11\n",
      "200m individual medley -> 2:01.63\n",
      "400m individual medley -> 4:15.48\n",
      "4 × 50 m freestyle relay -> 1:32.50\n",
      "4 × 100 m freestyle relay -> 3:25.01\n",
      "4 × 200 m freestyle relay -> 7:30.13\n",
      "4 × 50 m medley relay -> 1:42.35\n",
      "4 × 100 m medley relay -> 3:40.41\n"
     ]
    }
   ],
   "source": [
    "for row in rows[1:]:\n",
    "    columns = row.find(\"td\", mode=\"all\")[0:2]\n",
    "    event = columns[0].text\n",
    "    time = columns[1].text\n",
    "    print(f\"{event} -> {time}\")"
   ]
  },
  {
   "cell_type": "code",
   "execution_count": 12,
   "metadata": {},
   "outputs": [],
   "source": [
    "RECORDS = (0,2,4,5)\n",
    "COURSES = ( \"LC Men\", \"LC Women\", \"SC Men\", \"SC Women\")"
   ]
  },
  {
   "cell_type": "code",
   "execution_count": 13,
   "metadata": {},
   "outputs": [],
   "source": [
    "records_dict={}\n",
    "for n_table, course in zip(RECORDS, COURSES):\n",
    "    table = tables[n_table]\n",
    "    rows = table.find(\"tr\", mode=\"all\")\n",
    "    records_dict[course]= {}\n",
    "    for row in rows[1:]:\n",
    "        columns = row.find(\"td\", mode=\"all\")[0:2]\n",
    "        event = columns[0].text\n",
    "        time = columns[1].text\n",
    "        if \"relay\" not in event:\n",
    "            records_dict[course][event] = time"
   ]
  },
  {
   "cell_type": "code",
   "execution_count": 14,
   "metadata": {},
   "outputs": [],
   "source": [
    "conversions = {\n",
    "    \"Free\": \"freestyle\",\n",
    "    \"Back\": \"backstroke\",\n",
    "    \"Breast\": \"breaststroke\",\n",
    "    \"Fly\": \"butterfly\",\n",
    "    \"IM\": \"individual medley\"\n",
    "}"
   ]
  },
  {
   "cell_type": "code",
   "execution_count": 15,
   "metadata": {},
   "outputs": [],
   "source": [
    "import json"
   ]
  },
  {
   "cell_type": "code",
   "execution_count": 18,
   "metadata": {},
   "outputs": [],
   "source": [
    "with open(\"../src/swimdata/records.json\", \"w\") as file:\n",
    "    json.dump(records_dict, file)"
   ]
  },
  {
   "cell_type": "code",
   "execution_count": null,
   "metadata": {},
   "outputs": [],
   "source": []
  }
 ],
 "metadata": {
  "kernelspec": {
   "display_name": "hfp",
   "language": "python",
   "name": "python3"
  },
  "language_info": {
   "codemirror_mode": {
    "name": "ipython",
    "version": 3
   },
   "file_extension": ".py",
   "mimetype": "text/x-python",
   "name": "python",
   "nbconvert_exporter": "python",
   "pygments_lexer": "ipython3",
   "version": "3.13.2"
  }
 },
 "nbformat": 4,
 "nbformat_minor": 2
}
