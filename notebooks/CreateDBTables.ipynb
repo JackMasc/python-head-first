{
 "cells": [
  {
   "cell_type": "code",
   "execution_count": 20,
   "metadata": {},
   "outputs": [],
   "source": [
    "import DBcm"
   ]
  },
  {
   "cell_type": "code",
   "execution_count": 21,
   "metadata": {},
   "outputs": [],
   "source": [
    "db_details = \"../SwimDB.sqlite3\""
   ]
  },
  {
   "cell_type": "code",
   "execution_count": 22,
   "metadata": {},
   "outputs": [],
   "source": [
    "with DBcm.UseDatabase(db_details) as db:\n",
    "    db.execute(\"pragma table_list\")\n",
    "    resuts = db.fetchall()"
   ]
  },
  {
   "cell_type": "code",
   "execution_count": 23,
   "metadata": {},
   "outputs": [
    {
     "data": {
      "text/plain": [
       "[('main', 'sqlite_schema', 'table', 5, 0, 0),\n",
       " ('temp', 'sqlite_temp_schema', 'table', 5, 0, 0)]"
      ]
     },
     "execution_count": 23,
     "metadata": {},
     "output_type": "execute_result"
    }
   ],
   "source": [
    "resuts"
   ]
  },
  {
   "cell_type": "code",
   "execution_count": 24,
   "metadata": {},
   "outputs": [],
   "source": [
    "SQL_SWIMMERS = \"\"\"\n",
    "    create table if not exists swimmers(\n",
    "        id integer not null primary key autoincrement,\n",
    "        name varchar(32) not null,\n",
    "        age integer not null\n",
    "    )\n",
    "\"\"\"\n",
    "\n",
    "SQL_EVENTS = \"\"\"\n",
    "    create table if not exists events(\n",
    "        id integer not null primary key autoincrement,\n",
    "        distance varchar(16) not null,\n",
    "        stroke varchart(16) not null\n",
    "    )\n",
    "\"\"\"\n",
    "\n",
    "SQL_TIMES = \"\"\"\n",
    "    create table if not exists times(\n",
    "        swimmer_id integer not null,\n",
    "        event_id integer not null,\n",
    "        time varchart(16),\n",
    "        ts timestamp default current_timestamp\n",
    "    )\n",
    "\"\"\"\n",
    "\n",
    "with DBcm.UseDatabase(config=db_details) as db:\n",
    "    db.execute(SQL_SWIMMERS)\n",
    "    db.execute(SQL_EVENTS)\n",
    "    db.execute(SQL_TIMES)\n",
    "    db.execute(\"pragma table_list\")\n",
    "    result = db.fetchall()"
   ]
  },
  {
   "cell_type": "code",
   "execution_count": 25,
   "metadata": {},
   "outputs": [
    {
     "data": {
      "text/plain": [
       "[('main', 'times', 'table', 4, 0, 0),\n",
       " ('main', 'events', 'table', 3, 0, 0),\n",
       " ('main', 'swimmers', 'table', 3, 0, 0),\n",
       " ('main', 'sqlite_sequence', 'table', 2, 0, 0),\n",
       " ('main', 'sqlite_schema', 'table', 5, 0, 0),\n",
       " ('temp', 'sqlite_temp_schema', 'table', 5, 0, 0)]"
      ]
     },
     "execution_count": 25,
     "metadata": {},
     "output_type": "execute_result"
    }
   ],
   "source": [
    "result"
   ]
  },
  {
   "cell_type": "markdown",
   "metadata": {},
   "source": [
    "## Populate tables"
   ]
  },
  {
   "cell_type": "code",
   "execution_count": 26,
   "metadata": {},
   "outputs": [],
   "source": [
    "import os\n",
    "\n",
    "FOLDER = \"swimdata/\"\n",
    "\n",
    "files = os.listdir(FOLDER)\n",
    "files.remove(\".DS_Store\")"
   ]
  },
  {
   "cell_type": "code",
   "execution_count": 27,
   "metadata": {},
   "outputs": [],
   "source": [
    "file_name = files[0]\n",
    "name, age, distance, stroke = file_name.removesuffix(\".txt\").split(\"-\")"
   ]
  },
  {
   "cell_type": "code",
   "execution_count": 28,
   "metadata": {},
   "outputs": [
    {
     "data": {
      "text/plain": [
       "[('main', 'times', 'table', 4, 0, 0),\n",
       " ('main', 'events', 'table', 3, 0, 0),\n",
       " ('main', 'sqlite_sequence', 'table', 2, 0, 0),\n",
       " ('main', 'swimmers', 'table', 3, 0, 0),\n",
       " ('main', 'sqlite_schema', 'table', 5, 0, 0),\n",
       " ('temp', 'sqlite_temp_schema', 'table', 5, 0, 0)]"
      ]
     },
     "execution_count": 28,
     "metadata": {},
     "output_type": "execute_result"
    }
   ],
   "source": [
    "SQL_INSERT_SWIMMER = \"\"\"\n",
    "    insert into swimmers\n",
    "    (name, age)\n",
    "    values\n",
    "    (?,?)\n",
    "\"\"\"\n",
    "\n",
    "with DBcm.UseDatabase(db_details) as db:\n",
    "    db.execute(SQL_INSERT_SWIMMER, (name, age))\n",
    "    db.execute(\"pragma table_list\")\n",
    "    result = db.fetchall()\n",
    "    \n",
    "result"
   ]
  },
  {
   "cell_type": "code",
   "execution_count": 29,
   "metadata": {},
   "outputs": [
    {
     "name": "stdout",
     "output_type": "stream",
     "text": [
      "true\n"
     ]
    }
   ],
   "source": [
    "SQL_SELECT_SWIMMER = \"\"\"\n",
    "    select *\n",
    "    from swimmers\n",
    "    where name = ? and age = ?;\n",
    "\"\"\"\n",
    "\n",
    "with DBcm.UseDatabase(db_details) as db:\n",
    "    db.execute(SQL_SELECT_SWIMMER, (name, age))\n",
    "    result = db.fetchall()\n",
    "\n",
    "result\n",
    "if result:\n",
    "    print(\"true\")\n",
    "else:\n",
    "    print(\"false\")"
   ]
  },
  {
   "cell_type": "code",
   "execution_count": 30,
   "metadata": {},
   "outputs": [
    {
     "data": {
      "text/plain": [
       "[(1, 'Abi', 10)]"
      ]
     },
     "execution_count": 30,
     "metadata": {},
     "output_type": "execute_result"
    }
   ],
   "source": [
    "SQL_DELETE = \"delete from times;\"\n",
    "\n",
    "with DBcm.UseDatabase(db_details) as db:\n",
    "    db.execute(SQL_DELETE)\n",
    "    db.execute(SQL_SELECT_SWIMMER, (name, age))\n",
    "    result = db.fetchall()\n",
    "\n",
    "result"
   ]
  },
  {
   "cell_type": "code",
   "execution_count": 31,
   "metadata": {},
   "outputs": [],
   "source": [
    "\n",
    "with DBcm.UseDatabase(db_details) as db:\n",
    "    for file_name in files:\n",
    "        name, age, *_ = file_name.removesuffix(\".txt\").split(\"-\")\n",
    "        db.execute(SQL_SELECT_SWIMMER, (name, age))\n",
    "        result = db.fetchall()\n",
    "        if result:\n",
    "            continue\n",
    "        db.execute(SQL_INSERT_SWIMMER, (name, age))"
   ]
  },
  {
   "cell_type": "code",
   "execution_count": 32,
   "metadata": {},
   "outputs": [],
   "source": [
    "SQL_INSERT_EVENT = \"\"\"\n",
    "    insert into events\n",
    "    (distance, stroke) \n",
    "    values\n",
    "    (?, ?);\n",
    "\"\"\"\n",
    "\n",
    "SQL_SELECT_EVENT = \"\"\"\n",
    "    select *\n",
    "    from events\n",
    "    where distance = ? and stroke = ?;\n",
    "\"\"\""
   ]
  },
  {
   "cell_type": "code",
   "execution_count": 33,
   "metadata": {},
   "outputs": [],
   "source": [
    "with DBcm.UseDatabase(db_details) as db:\n",
    "    for file_name in files:\n",
    "        *_, distance, stroke = file_name.removesuffix(\".txt\").split(\"-\")\n",
    "        db.execute(SQL_SELECT_EVENT, (distance, stroke))\n",
    "        result = db.fetchall()\n",
    "        if result:\n",
    "            continue\n",
    "        db.execute(SQL_INSERT_EVENT, (distance, stroke))"
   ]
  },
  {
   "cell_type": "code",
   "execution_count": 34,
   "metadata": {},
   "outputs": [],
   "source": [
    "SQL_GET_EVENT_ID = \"\"\"\n",
    "    select id\n",
    "    from events\n",
    "    where distance = ? and stroke = ?;\n",
    "\"\"\"\n",
    "\n",
    "SQL_GET_SWIMMER_ID = \"\"\"\n",
    "    select id\n",
    "    from swimmers\n",
    "    where name = ? and age = ?;\n",
    "\"\"\"\n",
    "\n",
    "SQL_INSERT_TIME = \"\"\"\n",
    "    insert into times\n",
    "    (swimmer_id, event_id, time)\n",
    "    values\n",
    "    (?,?,?);\n",
    "\"\"\""
   ]
  },
  {
   "cell_type": "code",
   "execution_count": 35,
   "metadata": {},
   "outputs": [],
   "source": [
    "from swimclub import DATA_FOLDER"
   ]
  },
  {
   "cell_type": "code",
   "execution_count": 36,
   "metadata": {},
   "outputs": [
    {
     "ename": "FileNotFoundError",
     "evalue": "[Errno 2] No such file or directory: '../chapter-2/swimdata/Abi-10-100m-Back.txt'",
     "output_type": "error",
     "traceback": [
      "\u001b[31m---------------------------------------------------------------------------\u001b[39m",
      "\u001b[31mFileNotFoundError\u001b[39m                         Traceback (most recent call last)",
      "\u001b[36mCell\u001b[39m\u001b[36m \u001b[39m\u001b[32mIn[36]\u001b[39m\u001b[32m, line 13\u001b[39m\n\u001b[32m     11\u001b[39m event_id = result[\u001b[32m0\u001b[39m]\n\u001b[32m---> \u001b[39m\u001b[32m13\u001b[39m \u001b[38;5;28;01mwith\u001b[39;00m \u001b[38;5;28;43mopen\u001b[39;49m\u001b[43m(\u001b[49m\u001b[43mDATA_FOLDER\u001b[49m\u001b[43m \u001b[49m\u001b[43m+\u001b[49m\u001b[43m \u001b[49m\u001b[43mfile_name\u001b[49m\u001b[43m,\u001b[49m\u001b[43m \u001b[49m\u001b[33;43m\"\u001b[39;49m\u001b[33;43mr\u001b[39;49m\u001b[33;43m\"\u001b[39;49m\u001b[43m)\u001b[49m \u001b[38;5;28;01mas\u001b[39;00m file:\n\u001b[32m     14\u001b[39m     lines = file.readlines()\n",
      "\u001b[36mFile \u001b[39m\u001b[32mc:\\Users\\mascg\\miniconda3\\envs\\hfp\\Lib\\site-packages\\IPython\\core\\interactiveshell.py:326\u001b[39m, in \u001b[36m_modified_open\u001b[39m\u001b[34m(file, *args, **kwargs)\u001b[39m\n\u001b[32m    320\u001b[39m     \u001b[38;5;28;01mraise\u001b[39;00m \u001b[38;5;167;01mValueError\u001b[39;00m(\n\u001b[32m    321\u001b[39m         \u001b[33mf\u001b[39m\u001b[33m\"\u001b[39m\u001b[33mIPython won\u001b[39m\u001b[33m'\u001b[39m\u001b[33mt let you open fd=\u001b[39m\u001b[38;5;132;01m{\u001b[39;00mfile\u001b[38;5;132;01m}\u001b[39;00m\u001b[33m by default \u001b[39m\u001b[33m\"\u001b[39m\n\u001b[32m    322\u001b[39m         \u001b[33m\"\u001b[39m\u001b[33mas it is likely to crash IPython. If you know what you are doing, \u001b[39m\u001b[33m\"\u001b[39m\n\u001b[32m    323\u001b[39m         \u001b[33m\"\u001b[39m\u001b[33myou can use builtins\u001b[39m\u001b[33m'\u001b[39m\u001b[33m open.\u001b[39m\u001b[33m\"\u001b[39m\n\u001b[32m    324\u001b[39m     )\n\u001b[32m--> \u001b[39m\u001b[32m326\u001b[39m \u001b[38;5;28;01mreturn\u001b[39;00m \u001b[43mio_open\u001b[49m\u001b[43m(\u001b[49m\u001b[43mfile\u001b[49m\u001b[43m,\u001b[49m\u001b[43m \u001b[49m\u001b[43m*\u001b[49m\u001b[43margs\u001b[49m\u001b[43m,\u001b[49m\u001b[43m \u001b[49m\u001b[43m*\u001b[49m\u001b[43m*\u001b[49m\u001b[43mkwargs\u001b[49m\u001b[43m)\u001b[49m\n",
      "\u001b[31mFileNotFoundError\u001b[39m: [Errno 2] No such file or directory: '../chapter-2/swimdata/Abi-10-100m-Back.txt'",
      "\nDuring handling of the above exception, another exception occurred:\n",
      "\u001b[31mFileNotFoundError\u001b[39m                         Traceback (most recent call last)",
      "\u001b[36mCell\u001b[39m\u001b[36m \u001b[39m\u001b[32mIn[36]\u001b[39m\u001b[32m, line 1\u001b[39m\n\u001b[32m----> \u001b[39m\u001b[32m1\u001b[39m \u001b[38;5;28;01mwith\u001b[39;00m DBcm.UseDatabase(db_details) \u001b[38;5;28;01mas\u001b[39;00m db:\n\u001b[32m      2\u001b[39m     \u001b[38;5;28;01mfor\u001b[39;00m file_name \u001b[38;5;129;01min\u001b[39;00m files:\n\u001b[32m      3\u001b[39m         name, age, distance, stroke = file_name.removesuffix(\u001b[33m\"\u001b[39m\u001b[33m.txt\u001b[39m\u001b[33m\"\u001b[39m).split(\u001b[33m\"\u001b[39m\u001b[33m-\u001b[39m\u001b[33m\"\u001b[39m)\n",
      "\u001b[36mFile \u001b[39m\u001b[32mc:\\Users\\mascg\\miniconda3\\envs\\hfp\\Lib\\site-packages\\DBcm.py:120\u001b[39m, in \u001b[36mUseDatabase.__exit__\u001b[39m\u001b[34m(self, exc_type, exc_value, exc_traceback)\u001b[39m\n\u001b[32m    118\u001b[39m     \u001b[38;5;28;01mraise\u001b[39;00m SQLError(exc_value)\n\u001b[32m    119\u001b[39m \u001b[38;5;28;01melif\u001b[39;00m exc_type:\n\u001b[32m--> \u001b[39m\u001b[32m120\u001b[39m     \u001b[38;5;28;01mraise\u001b[39;00m exc_type(exc_value)\n",
      "\u001b[31mFileNotFoundError\u001b[39m: [Errno 2] No such file or directory: '../chapter-2/swimdata/Abi-10-100m-Back.txt'"
     ]
    }
   ],
   "source": [
    "with DBcm.UseDatabase(db_details) as db:\n",
    "    for file_name in files:\n",
    "        name, age, distance, stroke = file_name.removesuffix(\".txt\").split(\"-\")\n",
    "\n",
    "        db.execute(SQL_GET_SWIMMER_ID, (name, age))\n",
    "        result = db.fetchone()\n",
    "        swimmer_id = result[0]\n",
    "\n",
    "        db.execute(SQL_GET_EVENT_ID, (distance, stroke))\n",
    "        result = db.fetchone()\n",
    "        event_id = result[0]\n",
    "\n",
    "        with open(DATA_FOLDER + file_name, \"r\") as file:\n",
    "            lines = file.readlines()\n",
    "        times = lines[0].strip().split(\",\")\n",
    "\n",
    "        for time in times:\n",
    "            db.execute(SQL_INSERT_TIME, (swimmer_id, event_id, time))"
   ]
  },
  {
   "cell_type": "code",
   "execution_count": null,
   "metadata": {},
   "outputs": [],
   "source": []
  }
 ],
 "metadata": {
  "kernelspec": {
   "display_name": "hfp",
   "language": "python",
   "name": "python3"
  },
  "language_info": {
   "codemirror_mode": {
    "name": "ipython",
    "version": 3
   },
   "file_extension": ".py",
   "mimetype": "text/x-python",
   "name": "python",
   "nbconvert_exporter": "python",
   "pygments_lexer": "ipython3",
   "version": "3.13.2"
  }
 },
 "nbformat": 4,
 "nbformat_minor": 2
}
