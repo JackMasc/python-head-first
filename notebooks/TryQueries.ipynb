{
 "cells": [
  {
   "cell_type": "code",
   "execution_count": 1,
   "metadata": {},
   "outputs": [],
   "source": [
    "import DBcm\n",
    "\n",
    "config = \"../src/db_sqlite/SwimDB.sqlite3\""
   ]
  },
  {
   "cell_type": "code",
   "execution_count": 2,
   "metadata": {},
   "outputs": [
    {
     "name": "stdout",
     "output_type": "stream",
     "text": [
      "['__add__', '__class__', '__contains__', '__delattr__', '__dir__', '__doc__', '__eq__', '__format__', '__ge__', '__getattribute__', '__getitem__', '__getnewargs__', '__getstate__', '__gt__', '__hash__', '__init__', '__init_subclass__', '__iter__', '__le__', '__len__', '__lt__', '__mod__', '__mul__', '__ne__', '__new__', '__reduce__', '__reduce_ex__', '__repr__', '__rmod__', '__rmul__', '__setattr__', '__sizeof__', '__str__', '__subclasshook__', 'capitalize', 'casefold', 'center', 'count', 'encode', 'endswith', 'expandtabs', 'find', 'format', 'format_map', 'index', 'isalnum', 'isalpha', 'isascii', 'isdecimal', 'isdigit', 'isidentifier', 'islower', 'isnumeric', 'isprintable', 'isspace', 'istitle', 'isupper', 'join', 'ljust', 'lower', 'lstrip', 'maketrans', 'partition', 'removeprefix', 'removesuffix', 'replace', 'rfind', 'rindex', 'rjust', 'rpartition', 'rsplit', 'rstrip', 'split', 'splitlines', 'startswith', 'strip', 'swapcase', 'title', 'translate', 'upper', 'zfill']\n"
     ]
    }
   ],
   "source": [
    "print(dir(str))"
   ]
  },
  {
   "cell_type": "code",
   "execution_count": 3,
   "metadata": {},
   "outputs": [
    {
     "name": "stdout",
     "output_type": "stream",
     "text": [
      "['capitalize', 'casefold', 'center', 'count', 'encode', 'endswith', 'expandtabs', 'find', 'format', 'format_map', 'index', 'isalnum', 'isalpha', 'isascii', 'isdecimal', 'isdigit', 'isidentifier', 'islower', 'isnumeric', 'isprintable', 'isspace', 'istitle', 'isupper', 'join', 'ljust', 'lower', 'lstrip', 'maketrans', 'partition', 'removeprefix', 'removesuffix', 'replace', 'rfind', 'rindex', 'rjust', 'rpartition', 'rsplit', 'rstrip', 'split', 'splitlines', 'startswith', 'strip', 'swapcase', 'title', 'translate', 'upper', 'zfill']\n"
     ]
    }
   ],
   "source": [
    "statement = []\n",
    "for method in dir(str):\n",
    "    if not method.startswith(\"__\"):\n",
    "        statement.append(method)\n",
    "\n",
    "print(statement)"
   ]
  },
  {
   "cell_type": "code",
   "execution_count": 4,
   "metadata": {},
   "outputs": [],
   "source": [
    "methods = [method for method in dir(str) if not method.startswith(\"__\")]"
   ]
  },
  {
   "cell_type": "code",
   "execution_count": 5,
   "metadata": {},
   "outputs": [],
   "source": [
    "SQL_SESSIONS = \"\"\"\n",
    "    select distinct ts from times;\n",
    "\"\"\"\n",
    "\n",
    "SQL_SWIMMERS_BY_SESSION = \"\"\"\n",
    "    select distinct swimmers.name, swimmers.age\n",
    "    from swimmers\n",
    "    join times on times.swimmer_id = swimmers.id\n",
    "    where date(times.ts) = ?\n",
    "    order by swimmers.name; \n",
    "\"\"\"\n",
    "\n",
    "SQL_SWIMMERS_EVENTS_BY_SESSION = \"\"\"\n",
    "    select distinct events.distance, events.stroke\n",
    "    from swimmers, events, times\n",
    "    where \n",
    "    swimmers.name = ? and\n",
    "    swimmers.age = ? and\n",
    "    date(times.ts) = ? and\n",
    "    times.swimmer_id = swimmers.id and\n",
    "    times.event_id = events.id\n",
    "\"\"\"\n",
    "\n",
    "SQL_CHART_DATA_BY_SWIMMER_EVENT_SESSION = \"\"\"\n",
    "    select times.time\n",
    "    from times, swimmers, events\n",
    "    where\n",
    "    swimmers.name = ? and\n",
    "    swimmers.age = ? and\n",
    "    events.distance = ? and\n",
    "    events.stroke = ? and\n",
    "    date(times.ts) = ? and\n",
    "    times.swimmer_id = swimmers.id and\n",
    "    times.event_id = events.id\n",
    "\"\"\""
   ]
  },
  {
   "cell_type": "code",
   "execution_count": 6,
   "metadata": {},
   "outputs": [
    {
     "data": {
      "text/plain": [
       "[('2025-05-12 18:25:07',)]"
      ]
     },
     "execution_count": 6,
     "metadata": {},
     "output_type": "execute_result"
    }
   ],
   "source": [
    "with DBcm.UseDatabase(config) as db:\n",
    "    db.execute(SQL_SESSIONS)\n",
    "    retrieved_times = db.fetchall()\n",
    "retrieved_times"
   ]
  },
  {
   "cell_type": "code",
   "execution_count": 7,
   "metadata": {},
   "outputs": [],
   "source": [
    "time_session = retrieved_times[0][0].split(\" \")[0]\n",
    "with DBcm.UseDatabase(config) as db:\n",
    "    db.execute(SQL_SWIMMERS_BY_SESSION, (time_session,))\n",
    "    result = db.fetchall()"
   ]
  },
  {
   "cell_type": "code",
   "execution_count": 8,
   "metadata": {},
   "outputs": [
    {
     "data": {
      "text/plain": [
       "[('100m', 'Back'),\n",
       " ('100m', 'Breast'),\n",
       " ('50m', 'Back'),\n",
       " ('50m', 'Breast'),\n",
       " ('50m', 'Free')]"
      ]
     },
     "execution_count": 8,
     "metadata": {},
     "output_type": "execute_result"
    }
   ],
   "source": [
    "with DBcm.UseDatabase(config) as db:\n",
    "    db.execute(SQL_SWIMMERS_EVENTS_BY_SESSION, (\"Abi\", \"10\", time_session))\n",
    "    result = db.fetchall()\n",
    "result"
   ]
  },
  {
   "cell_type": "code",
   "execution_count": 9,
   "metadata": {},
   "outputs": [
    {
     "data": {
      "text/plain": [
       "[('1:31.59',), ('1:26.55',), ('1:28.75',), ('1:39.79',), ('1:32.37',)]"
      ]
     },
     "execution_count": 9,
     "metadata": {},
     "output_type": "execute_result"
    }
   ],
   "source": [
    "with DBcm.UseDatabase(config) as db:\n",
    "    db.execute(SQL_CHART_DATA_BY_SWIMMER_EVENT_SESSION, (\"Abi\", \"10\", \"100m\", \"Back\", time_session))\n",
    "    result = db.fetchall()\n",
    "result"
   ]
  }
 ],
 "metadata": {
  "kernelspec": {
   "display_name": "hfp",
   "language": "python",
   "name": "python3"
  },
  "language_info": {
   "codemirror_mode": {
    "name": "ipython",
    "version": 3
   },
   "file_extension": ".py",
   "mimetype": "text/x-python",
   "name": "python",
   "nbconvert_exporter": "python",
   "pygments_lexer": "ipython3",
   "version": "3.13.2"
  }
 },
 "nbformat": 4,
 "nbformat_minor": 2
}
