{
 "cells": [
  {
   "cell_type": "code",
   "execution_count": 3,
   "metadata": {},
   "outputs": [
    {
     "name": "stdout",
     "output_type": "stream",
     "text": [
      "Requirement already satisfied: DBcm in c:\\users\\mascg\\miniconda3\\envs\\hfp\\lib\\site-packages (3.0.5)\n",
      "Requirement already satisfied: mariadb in c:\\users\\mascg\\miniconda3\\envs\\hfp\\lib\\site-packages (from DBcm) (1.1.12)\n",
      "Requirement already satisfied: packaging in c:\\users\\mascg\\miniconda3\\envs\\hfp\\lib\\site-packages (from mariadb->DBcm) (25.0)\n",
      "Note: you may need to restart the kernel to use updated packages.\n"
     ]
    }
   ],
   "source": [
    "%pip install DBcm --upgrade"
   ]
  },
  {
   "cell_type": "code",
   "execution_count": 4,
   "metadata": {},
   "outputs": [],
   "source": [
    "import DBcm"
   ]
  },
  {
   "cell_type": "code",
   "execution_count": 5,
   "metadata": {},
   "outputs": [],
   "source": [
    "db_details = \"SwimDB.sqlite3\""
   ]
  },
  {
   "cell_type": "code",
   "execution_count": 6,
   "metadata": {},
   "outputs": [],
   "source": [
    "with DBcm.UseDatabase(db_details) as db:\n",
    "    db.execute(\"pragma table_list\")\n",
    "    resuts = db.fetchall()"
   ]
  },
  {
   "cell_type": "code",
   "execution_count": 7,
   "metadata": {},
   "outputs": [
    {
     "data": {
      "text/plain": [
       "[('main', 'sqlite_schema', 'table', 5, 0, 0),\n",
       " ('temp', 'sqlite_temp_schema', 'table', 5, 0, 0)]"
      ]
     },
     "execution_count": 7,
     "metadata": {},
     "output_type": "execute_result"
    }
   ],
   "source": [
    "resuts"
   ]
  },
  {
   "cell_type": "code",
   "execution_count": 8,
   "metadata": {},
   "outputs": [],
   "source": [
    "SQL_SWIMMERS = \"\"\"\n",
    "    create table if not exists swimmers(\n",
    "        id integer not null primary key autoincrement,\n",
    "        name varchar(32) not null,\n",
    "        age integer not null\n",
    "    )\n",
    "\"\"\"\n",
    "\n",
    "SQL_EVENTS = \"\"\"\n",
    "    create table if not exists events(\n",
    "        id integer not null primary key autoincrement,\n",
    "        distance varchar(16) not null,\n",
    "        stroke varchart(16) not null\n",
    "    )\n",
    "\"\"\"\n",
    "\n",
    "SQL_TIMES = \"\"\"\n",
    "    create table if not exists times(\n",
    "        swimmer_id integer not null,\n",
    "        event_id integer not null,\n",
    "        time varchart(16),\n",
    "        ts timestamp default current_timestamp\n",
    "    )\n",
    "\"\"\"\n",
    "\n",
    "with DBcm.UseDatabase(config=db_details) as db:\n",
    "    db.execute(SQL_SWIMMERS)\n",
    "    db.execute(SQL_EVENTS)\n",
    "    db.execute(SQL_TIMES)\n",
    "    db.execute(\"pragma table_list\")\n",
    "    result = db.fetchall()"
   ]
  },
  {
   "cell_type": "code",
   "execution_count": 9,
   "metadata": {},
   "outputs": [
    {
     "data": {
      "text/plain": [
       "[('main', 'times', 'table', 4, 0, 0),\n",
       " ('main', 'events', 'table', 3, 0, 0),\n",
       " ('main', 'swimmers', 'table', 3, 0, 0),\n",
       " ('main', 'sqlite_sequence', 'table', 2, 0, 0),\n",
       " ('main', 'sqlite_schema', 'table', 5, 0, 0),\n",
       " ('temp', 'sqlite_temp_schema', 'table', 5, 0, 0)]"
      ]
     },
     "execution_count": 9,
     "metadata": {},
     "output_type": "execute_result"
    }
   ],
   "source": [
    "result"
   ]
  },
  {
   "cell_type": "markdown",
   "metadata": {},
   "source": [
    "## Populate tables"
   ]
  },
  {
   "cell_type": "code",
   "execution_count": 10,
   "metadata": {},
   "outputs": [],
   "source": [
    "import os\n",
    "\n",
    "FOLDER = \"swimdata/\"\n",
    "\n",
    "files = os.listdir(FOLDER)\n",
    "files.remove(\".DS_Store\")"
   ]
  },
  {
   "cell_type": "code",
   "execution_count": 11,
   "metadata": {},
   "outputs": [],
   "source": [
    "file_name = files[0]\n",
    "name, age, distance, stroke = file_name.removesuffix(\".txt\").split(\"-\")"
   ]
  },
  {
   "cell_type": "code",
   "execution_count": 12,
   "metadata": {},
   "outputs": [
    {
     "data": {
      "text/plain": [
       "[('main', 'times', 'table', 4, 0, 0),\n",
       " ('main', 'events', 'table', 3, 0, 0),\n",
       " ('main', 'sqlite_sequence', 'table', 2, 0, 0),\n",
       " ('main', 'swimmers', 'table', 3, 0, 0),\n",
       " ('main', 'sqlite_schema', 'table', 5, 0, 0),\n",
       " ('temp', 'sqlite_temp_schema', 'table', 5, 0, 0)]"
      ]
     },
     "execution_count": 12,
     "metadata": {},
     "output_type": "execute_result"
    }
   ],
   "source": [
    "SQL_INSERT_SWIMMER = \"\"\"\n",
    "    insert into swimmers\n",
    "    (name, age)\n",
    "    values\n",
    "    (?,?)\n",
    "\"\"\"\n",
    "\n",
    "with DBcm.UseDatabase(db_details) as db:\n",
    "    db.execute(SQL_INSERT_SWIMMER, (name, age))\n",
    "    db.execute(\"pragma table_list\")\n",
    "    result = db.fetchall()\n",
    "    \n",
    "result"
   ]
  },
  {
   "cell_type": "code",
   "execution_count": 13,
   "metadata": {},
   "outputs": [
    {
     "name": "stdout",
     "output_type": "stream",
     "text": [
      "true\n"
     ]
    }
   ],
   "source": [
    "SQL_SELECT_SWIMMER = \"\"\"\n",
    "    select *\n",
    "    from swimmers\n",
    "    where name = ? and age = ?;\n",
    "\"\"\"\n",
    "\n",
    "with DBcm.UseDatabase(db_details) as db:\n",
    "    db.execute(SQL_SELECT_SWIMMER, (name, age))\n",
    "    result = db.fetchall()\n",
    "\n",
    "result\n",
    "if result:\n",
    "    print(\"true\")\n",
    "else:\n",
    "    print(\"false\")"
   ]
  },
  {
   "cell_type": "code",
   "execution_count": 14,
   "metadata": {},
   "outputs": [
    {
     "data": {
      "text/plain": [
       "[(1, 'Abi', 10)]"
      ]
     },
     "execution_count": 14,
     "metadata": {},
     "output_type": "execute_result"
    }
   ],
   "source": [
    "SQL_DELETE = \"delete from times;\"\n",
    "\n",
    "with DBcm.UseDatabase(db_details) as db:\n",
    "    db.execute(SQL_DELETE)\n",
    "    db.execute(SQL_SELECT_SWIMMER, (name, age))\n",
    "    result = db.fetchall()\n",
    "\n",
    "result"
   ]
  },
  {
   "cell_type": "code",
   "execution_count": 15,
   "metadata": {},
   "outputs": [],
   "source": [
    "\n",
    "with DBcm.UseDatabase(db_details) as db:\n",
    "    for file_name in files:\n",
    "        name, age, *_ = file_name.removesuffix(\".txt\").split(\"-\")\n",
    "        db.execute(SQL_SELECT_SWIMMER, (name, age))\n",
    "        result = db.fetchall()\n",
    "        if result:\n",
    "            continue\n",
    "        db.execute(SQL_INSERT_SWIMMER, (name, age))"
   ]
  },
  {
   "cell_type": "code",
   "execution_count": 16,
   "metadata": {},
   "outputs": [],
   "source": [
    "SQL_INSERT_EVENT = \"\"\"\n",
    "    insert into events\n",
    "    (distance, stroke) \n",
    "    values\n",
    "    (?, ?);\n",
    "\"\"\"\n",
    "\n",
    "SQL_SELECT_EVENT = \"\"\"\n",
    "    select *\n",
    "    from events\n",
    "    where distance = ? and stroke = ?;\n",
    "\"\"\""
   ]
  },
  {
   "cell_type": "code",
   "execution_count": 17,
   "metadata": {},
   "outputs": [],
   "source": [
    "with DBcm.UseDatabase(db_details) as db:\n",
    "    for file_name in files:\n",
    "        *_, distance, stroke = file_name.removesuffix(\".txt\").split(\"-\")\n",
    "        db.execute(SQL_SELECT_EVENT, (distance, stroke))\n",
    "        result = db.fetchall()\n",
    "        if result:\n",
    "            continue\n",
    "        db.execute(SQL_INSERT_EVENT, (distance, stroke))"
   ]
  },
  {
   "cell_type": "code",
   "execution_count": 18,
   "metadata": {},
   "outputs": [],
   "source": [
    "SQL_GET_EVENT_ID = \"\"\"\n",
    "    select id\n",
    "    from events\n",
    "    where distance = ? and stroke = ?;\n",
    "\"\"\"\n",
    "\n",
    "SQL_GET_SWIMMER_ID = \"\"\"\n",
    "    select id\n",
    "    from swimmers\n",
    "    where name = ? and age = ?;\n",
    "\"\"\"\n",
    "\n",
    "SQL_INSERT_TIME = \"\"\"\n",
    "    insert into times\n",
    "    (swimmer_id, event_id, time)\n",
    "    values\n",
    "    (?,?,?);\n",
    "\"\"\""
   ]
  },
  {
   "cell_type": "code",
   "execution_count": 19,
   "metadata": {},
   "outputs": [],
   "source": [
    "from swimclub import DATA_FOLDER"
   ]
  },
  {
   "cell_type": "code",
   "execution_count": 20,
   "metadata": {},
   "outputs": [],
   "source": [
    "with DBcm.UseDatabase(db_details) as db:\n",
    "    for file_name in files:\n",
    "        name, age, distance, stroke = file_name.removesuffix(\".txt\").split(\"-\")\n",
    "\n",
    "        db.execute(SQL_GET_SWIMMER_ID, (name, age))\n",
    "        result = db.fetchone()\n",
    "        swimmer_id = result[0]\n",
    "\n",
    "        db.execute(SQL_GET_EVENT_ID, (distance, stroke))\n",
    "        result = db.fetchone()\n",
    "        event_id = result[0]\n",
    "\n",
    "        with open(DATA_FOLDER + file_name, \"r\") as file:\n",
    "            lines = file.readlines()\n",
    "        times = lines[0].strip().split(\",\")\n",
    "\n",
    "        for time in times:\n",
    "            db.execute(SQL_INSERT_TIME, (swimmer_id, event_id, time))"
   ]
  },
  {
   "cell_type": "code",
   "execution_count": null,
   "metadata": {},
   "outputs": [],
   "source": []
  }
 ],
 "metadata": {
  "kernelspec": {
   "display_name": "hfp",
   "language": "python",
   "name": "python3"
  },
  "language_info": {
   "codemirror_mode": {
    "name": "ipython",
    "version": 3
   },
   "file_extension": ".py",
   "mimetype": "text/x-python",
   "name": "python",
   "nbconvert_exporter": "python",
   "pygments_lexer": "ipython3",
   "version": "3.13.2"
  }
 },
 "nbformat": 4,
 "nbformat_minor": 2
}
