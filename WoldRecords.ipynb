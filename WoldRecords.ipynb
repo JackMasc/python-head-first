{
 "cells": [
  {
   "cell_type": "code",
   "execution_count": 1,
   "metadata": {},
   "outputs": [
    {
     "name": "stdout",
     "output_type": "stream",
     "text": [
      "Requirement already satisfied: gazpacho in c:\\users\\td673\\documents\\progetti\\personal\\.venv\\lib\\site-packages (1.1)\n",
      "Note: you may need to restart the kernel to use updated packages.\n"
     ]
    }
   ],
   "source": [
    "%pip install gazpacho"
   ]
  },
  {
   "cell_type": "code",
   "execution_count": 2,
   "metadata": {},
   "outputs": [],
   "source": [
    "import gazpacho"
   ]
  },
  {
   "cell_type": "code",
   "execution_count": 3,
   "metadata": {},
   "outputs": [],
   "source": [
    "URL = \"https://en.wikipedia.org/wiki/List_of_world_records_in_swimming\""
   ]
  },
  {
   "cell_type": "code",
   "execution_count": 4,
   "metadata": {},
   "outputs": [],
   "source": [
    "html = gazpacho.get(URL)"
   ]
  },
  {
   "cell_type": "code",
   "execution_count": 5,
   "metadata": {},
   "outputs": [],
   "source": [
    "soup = gazpacho.Soup(html)"
   ]
  },
  {
   "cell_type": "code",
   "execution_count": 6,
   "metadata": {},
   "outputs": [],
   "source": [
    "tables = soup.find(\"table\", mode=\"all\")"
   ]
  },
  {
   "cell_type": "code",
   "execution_count": 7,
   "metadata": {},
   "outputs": [],
   "source": [
    "rows = tables[4].find(\"tr\", mode=\"all\")"
   ]
  },
  {
   "cell_type": "code",
   "execution_count": 9,
   "metadata": {},
   "outputs": [
    {
     "name": "stdout",
     "output_type": "stream",
     "text": [
      "Table 0 has 21 rows and 9 columns\n",
      "Table 1 has 1 rows and 2 columns\n",
      "Table 2 has 21 rows and 9 columns\n",
      "Table 3 has 3 rows and 9 columns\n",
      "Table 4 has 26 rows and 9 columns\n",
      "Table 5 has 26 rows and 9 columns\n",
      "Table 6 has 3 rows and 9 columns\n",
      "Table 7 has 26 rows and 11 columns\n",
      "Table 8 has 1 rows and 2 columns\n",
      "Table 9 has 7 rows and 1 columns\n",
      "Table 10 has 5 rows and 1 columns\n",
      "Table 11 has 8 rows and 1 columns\n"
     ]
    }
   ],
   "source": [
    "for i, table in enumerate(tables):\n",
    "    rows = table.find(\"tr\", mode=\"all\")\n",
    "    row_len = len(rows)\n",
    "    columns = rows[-1].find(\"td\", mode=\"all\")\n",
    "    columns_len = len(columns)\n",
    "    print(f\"Table {i} has {row_len} rows and {columns_len} columns\")"
   ]
  },
  {
   "cell_type": "code",
   "execution_count": 10,
   "metadata": {},
   "outputs": [],
   "source": [
    "rows = tables[4].find(\"tr\", mode=\"all\")"
   ]
  },
  {
   "cell_type": "code",
   "execution_count": 11,
   "metadata": {},
   "outputs": [
    {
     "name": "stdout",
     "output_type": "stream",
     "text": [
      "50m freestyle -> 20.16\n",
      "100m freestyle -> 44.84\n",
      "200m freestyle -> 1:39.37\n",
      "400m freestyle -> 3:32.25\n",
      "800m freestyle -> 7:20.46\n",
      "1500m freestyle -> 14:06.88\n",
      "50m backstroke -> 22.11\n",
      "100m backstroke -> 48.33\n",
      "200m backstroke -> 1:45.63\n",
      "50m breaststroke -> 24.95\n",
      "100m breaststroke -> 55.28\n",
      "200m breaststroke -> 2:00.16\n",
      "50m butterfly -> 21.50\n",
      "100m butterfly -> 47.78\n",
      "200m butterfly -> 1:46.85\n",
      "100m individual medley -> 49.28\n",
      "200m individual medley -> 1:48.88\n",
      "400m individual medley -> 3:54.81\n",
      "4 × 50 m freestyle relay -> 1:21.80\n",
      "4 × 50 m freestyle relay -> 1:20.77\n",
      "4 × 100 m freestyle relay -> 3:02.75\n",
      "4 × 200 m freestyle relay -> 6:44.12\n",
      "4 × 50 m medley relay -> 1:29.72\n",
      "4 × 100 m medley relay -> 3:18.98\n",
      "4 × 100 m medley relay -> 3:18.98\n"
     ]
    }
   ],
   "source": [
    "for row in rows[1:]:\n",
    "    columns = row.find(\"td\", mode=\"all\")[0:2]\n",
    "    event = columns[0].text\n",
    "    time = columns[1].text\n",
    "    print(f\"{event} -> {time}\")"
   ]
  },
  {
   "cell_type": "code",
   "execution_count": 12,
   "metadata": {},
   "outputs": [],
   "source": [
    "RECORDS = (0,2,4,5)\n",
    "COURSES = ( \"LC Men\", \"LC Women\", \"SC Men\", \"SC Women\")"
   ]
  },
  {
   "cell_type": "code",
   "execution_count": 13,
   "metadata": {},
   "outputs": [],
   "source": [
    "records_dict={}\n",
    "for n_table, course in zip(RECORDS, COURSES):\n",
    "    table = tables[n_table]\n",
    "    rows = table.find(\"tr\", mode=\"all\")\n",
    "    records_dict[course]= {}\n",
    "    for row in rows[1:]:\n",
    "        columns = row.find(\"td\", mode=\"all\")[0:2]\n",
    "        event = columns[0].text\n",
    "        time = columns[1].text\n",
    "        if \"relay\" not in event:\n",
    "            records_dict[course][event] = time"
   ]
  },
  {
   "cell_type": "code",
   "execution_count": 14,
   "metadata": {},
   "outputs": [],
   "source": [
    "conversions = {\n",
    "    \"Free\": \"freestyle\",\n",
    "    \"Back\": \"backstroke\",\n",
    "    \"Breast\": \"breaststroke\",\n",
    "    \"Fly\": \"butterfly\",\n",
    "    \"IM\": \"individual medley\"\n",
    "}"
   ]
  },
  {
   "cell_type": "code",
   "execution_count": 15,
   "metadata": {},
   "outputs": [],
   "source": [
    "import json"
   ]
  },
  {
   "cell_type": "code",
   "execution_count": 16,
   "metadata": {},
   "outputs": [],
   "source": [
    "with open(\"records.json\", \"w\") as file:\n",
    "    json.dump(records_dict, file)"
   ]
  },
  {
   "cell_type": "code",
   "execution_count": null,
   "metadata": {},
   "outputs": [],
   "source": []
  }
 ],
 "metadata": {
  "kernelspec": {
   "display_name": ".venv",
   "language": "python",
   "name": "python3"
  },
  "language_info": {
   "codemirror_mode": {
    "name": "ipython",
    "version": 3
   },
   "file_extension": ".py",
   "mimetype": "text/x-python",
   "name": "python",
   "nbconvert_exporter": "python",
   "pygments_lexer": "ipython3",
   "version": "3.13.0"
  }
 },
 "nbformat": 4,
 "nbformat_minor": 2
}
